{
 "cells": [
  {
   "cell_type": "code",
   "execution_count": 1,
   "metadata": {},
   "outputs": [],
   "source": [
    "import pandas as pd\n",
    "from sqlalchemy import create_engine\n",
    "import requests\n"
   ]
  },
  {
   "cell_type": "code",
   "execution_count": null,
   "metadata": {},
   "outputs": [],
   "source": [
    "accidents_file = \"Resources/US_Accidents_Dec19.csv\"\n",
    "accidents_df = pd.read_csv(accidents_file)\n",
    "accidents_df.head(10)"
   ]
  },
  {
   "cell_type": "code",
   "execution_count": null,
   "metadata": {},
   "outputs": [],
   "source": [
    "Start_Time ='2017-01-01'\n",
    "End_Time = '2017-12-31'\n",
    "\n",
    "after_start_date = accidents_df[\"Start_Time\"] >= Start_Time\n",
    "before_end_date = accidents_df[\"End_Time\"] <= End_Time\n",
    "between_two_dates = after_start_date & before_end_date\n",
    "filtered_dates = accidents_df.loc[between_two_dates]\n",
    "\n",
    "filtered_dates.head()"
   ]
  },
  {
   "cell_type": "code",
   "execution_count": null,
   "metadata": {},
   "outputs": [],
   "source": [
    "accidents =['ID','Severity', 'Description', 'Street', 'Side', 'City',\n",
    "           'County', 'State', 'Zipcode','Country','Timezone', 'Weather_Condition', \n",
    "            'Sunrise_Sunset', 'Start_Time', 'End_Time']\n",
    "\n",
    "accidents_transformed= filtered_dates[accidents]\n",
    "#accidents_transformed.drop_duplicates(\"ID\", inplace=True)\n",
    "\n",
    "accidents_transformed.head()"
   ]
  },
  {
   "cell_type": "code",
   "execution_count": null,
   "metadata": {},
   "outputs": [],
   "source": [
    "accidents_transformed.to_csv(\"accidents_transformed.csv\")"
   ]
  },
  {
   "cell_type": "code",
   "execution_count": 2,
   "metadata": {},
   "outputs": [],
   "source": [
    "accidents_transformed = pd.read_csv(\"accidents_transformed.csv\")"
   ]
  },
  {
   "cell_type": "code",
   "execution_count": 3,
   "metadata": {
    "scrolled": true
   },
   "outputs": [],
   "source": [
    "from config import password\n",
    "connection_string = f\"postgres:{password}@localhost:5432/ETL_projects_db\"\n",
    "engine = create_engine(f'postgresql://{connection_string}')"
   ]
  },
  {
   "cell_type": "code",
   "execution_count": 5,
   "metadata": {},
   "outputs": [
    {
     "data": {
      "text/plain": [
       "[]"
      ]
     },
     "execution_count": 5,
     "metadata": {},
     "output_type": "execute_result"
    }
   ],
   "source": [
    "engine.table_names()"
   ]
  },
  {
   "cell_type": "code",
   "execution_count": 6,
   "metadata": {},
   "outputs": [],
   "source": [
    "accidents_transformed.to_sql(name='accidents', con=engine, if_exists='append', index=True)"
   ]
  },
  {
   "cell_type": "code",
   "execution_count": null,
   "metadata": {},
   "outputs": [],
   "source": []
  }
 ],
 "metadata": {
  "kernelspec": {
   "display_name": "Python 3",
   "language": "python",
   "name": "python3"
  },
  "language_info": {
   "codemirror_mode": {
    "name": "ipython",
    "version": 3
   },
   "file_extension": ".py",
   "mimetype": "text/x-python",
   "name": "python",
   "nbconvert_exporter": "python",
   "pygments_lexer": "ipython3",
   "version": "3.7.4"
  }
 },
 "nbformat": 4,
 "nbformat_minor": 2
}
